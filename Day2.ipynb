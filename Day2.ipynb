{
 "cells": [
  {
   "cell_type": "code",
   "execution_count": 41,
   "id": "32e3d2a2-9936-49a4-8f74-b85891d1ccea",
   "metadata": {},
   "outputs": [
    {
     "name": "stdout",
     "output_type": "stream",
     "text": [
      "mindspore: 1.8.0\n",
      "mindquantum: 0.8.0\n",
      "numpy: 1.19.5\n",
      "scipy: 1.7.3\n",
      "openfermion: 1.4.0\n",
      "openfermionpyscf: 0.5\n"
     ]
    }
   ],
   "source": [
    "import mindspore as ms\n",
    "import mindquantum as mq\n",
    "from mindquantum.simulator import Simulator\n",
    "from mindquantum.core.circuit import Circuit\n",
    "from mindquantum.core.gates import X, RY, CNOT, Measure\n",
    "from mindquantum.core.parameterresolver import ParameterResolver\n",
    "import numpy as np\n",
    "import scipy as scp\n",
    "\n",
    "print('mindspore:', ms.__version__)\n",
    "print('mindquantum:', mq.__version__)\n",
    "print('numpy:', np.__version__)\n",
    "print('scipy:', scp.__version__)\n",
    "\n",
    "try:\n",
    "    import openfermion as opf\n",
    "    import openfermionpyscf as opf_scf\n",
    "    print('openfermion:', opf.__version__)\n",
    "    print('openfermionpyscf:', opf_scf.__version__)\n",
    "\n",
    "    HAS_OPF = True\n",
    "except:\n",
    "    HAS_OPF = False"
   ]
  },
  {
   "cell_type": "code",
   "execution_count": 42,
   "id": "f55e017e-4faa-49ca-99f4-f8d081e4ceb2",
   "metadata": {},
   "outputs": [
    {
     "name": "stdout",
     "output_type": "stream",
     "text": [
      "ref value: -1.1011503302326187\n",
      "ham:\n"
     ]
    },
    {
     "data": {
      "text/plain": [
       "QubitOperator(({}, const: (-0.327608,0) []\n",
       "{}, const: (0.137166,0) [Z0]\n",
       "{}, const: (0.137166,0) [Z1]\n",
       "{}, const: (-0.130363,0) [Z2]\n",
       "{}, const: (-0.130363,0) [Z3]\n",
       "{}, const: (0.156601,0) [Z0 Z1]\n",
       "{}, const: (0.0491976,0) [Y0 X1 X2 Y3]\n",
       "{}, const: (-0.0491976,0) [Y0 Y1 X2 X3]\n",
       "{}, const: (-0.0491976,0) [X0 X1 Y2 Y3]\n",
       "{}, const: (0.0491976,0) [X0 Y1 Y2 X3]\n",
       "{}, const: (0.106229,0) [Z0 Z2]\n",
       "{}, const: (0.155427,0) [Z0 Z3]\n",
       "{}, const: (0.155427,0) [Z1 Z2]\n",
       "{}, const: (0.106229,0) [Z1 Z3]\n",
       "{}, const: (0.163268,0) [Z2 Z3]))"
      ]
     },
     "execution_count": 42,
     "metadata": {},
     "output_type": "execute_result"
    }
   ],
   "source": [
    "if HAS_OPF:\n",
    "    from mindquantum import Hamiltonian, get_qubit_hamiltonian\n",
    "    from openfermion.chem import MolecularData\n",
    "    from openfermionpyscf import run_pyscf\n",
    "\n",
    "    mol = MolecularData([(\"H\", (0, 0, 0)), (\"H\", (0, 0, 1))], \"sto3g\", multiplicity=1)\n",
    "    mol = run_pyscf(mol, run_fci=1)\n",
    "    ham = Hamiltonian(get_qubit_hamiltonian(mol))\n",
    "    print('ref value:', mol.fci_energy)   # -1.1011503\n",
    "else:\n",
    "    from mindquantum.core.operators import QubitOperator\n",
    "\n",
    "    paulis = [\n",
    "      (-0.3276, \"\"),\n",
    "      (0.1372, \"Z0\"),\n",
    "      (0.1372, \"Z1\"),\n",
    "      (-0.1304, \"Z2\"),\n",
    "      (-0.1304, \"Z3\"),\n",
    "      (0.1566, \"Z0 Z1\"),\n",
    "      (0.1062, \"Z0 Z2\"),\n",
    "      (0.1554, \"Z0 Z3\"),\n",
    "      (0.1554, \"Z1 Z2\"),\n",
    "      (0.1062, \"Z1 Z3\"),\n",
    "      (0.1633, \"Z2 Z3\"),\n",
    "      (0.0492, \"X0 Y1 Y2 X3\"),\n",
    "      (-0.0492, \"Y0 Y1 X2 X3\"),\n",
    "      (-0.0492, \"X0 X1 Y2 Y3\"),\n",
    "      (0.0492, \"Y0 X1 X2 Y3\"),\n",
    "    ]\n",
    "    ham = Hamiltonian(sum([QubitOperator(string, coeff) for coeff, string in paulis]))\n",
    "    print('ref value:', -1.1011503)\n",
    "\n",
    "print('ham:')\n",
    "ham"
   ]
  },
  {
   "cell_type": "code",
   "execution_count": 43,
   "id": "718a24d1-9c61-4b42-ad3d-ae4b8ad41ceb",
   "metadata": {},
   "outputs": [
    {
     "name": "stdout",
     "output_type": "stream",
     "text": [
      "=================================Circuit Summary=================================\n",
      "|Total number of gates  : 13.                                                   |\n",
      "|Parameter gates        : 8.                                                    |\n",
      "|with 8 parameters are  :                                                       |\n",
      "|tht_0, tht_1, tht_2, tht_3, tht_4, tht_5, tht_6, tht_7                        .|\n",
      "|Number qubit of circuit: 4                                                     |\n",
      "=================================================================================\n",
      "q0: ──────X────────RY(tht_0)────●────RY(tht_4)────────────────────────────\n",
      "                                │\n",
      "q1: ──────X────────RY(tht_1)────X────────●────────RY(tht_5)───────────────\n",
      "                                         │\n",
      "q2: ──RY(tht_2)──────────────────────────X────────────●────────RY(tht_6)──\n",
      "                                                      │\n",
      "q3: ──RY(tht_3)───────────────────────────────────────X────────RY(tht_7)──\n"
     ]
    },
    {
     "data": {
      "image/svg+xml": [
       "<div class=\"nb-html-output output_area\"><svg xmlns=\"http://www.w3.org/2000/svg\" width=\"536.8\" height=\"260.0\" xmlns:xlink=\"http://www.w3.org/1999/xlink\">\n",
       "<rect x=\"0\" y=\"0.0\" width=\"536.8\" height=\"260.0\" fill=\"#ffffff\" />\n",
       "<text x=\"20.0\" y=\"40.0\" font-size=\"16px\" dominant-baseline=\"middle\" text-anchor=\"start\" font-family=\"Arial\" font-weight=\"normal\" fill=\"#252b3a\" >\n",
       "q0:\n",
       " </text>\n",
       "<text x=\"20.0\" y=\"100.0\" font-size=\"16px\" dominant-baseline=\"middle\" text-anchor=\"start\" font-family=\"Arial\" font-weight=\"normal\" fill=\"#252b3a\" >\n",
       "q1:\n",
       " </text>\n",
       "<text x=\"20.0\" y=\"160.0\" font-size=\"16px\" dominant-baseline=\"middle\" text-anchor=\"start\" font-family=\"Arial\" font-weight=\"normal\" fill=\"#252b3a\" >\n",
       "q2:\n",
       " </text>\n",
       "<text x=\"20.0\" y=\"220.0\" font-size=\"16px\" dominant-baseline=\"middle\" text-anchor=\"start\" font-family=\"Arial\" font-weight=\"normal\" fill=\"#252b3a\" >\n",
       "q3:\n",
       " </text>\n",
       "<line x1=\"48.8\" x2=\"516.8\" y1=\"40.0\" y2=\"40.0\" stroke=\"#adb0b8\" stroke-width=\"1\" />\n",
       "<line x1=\"48.8\" x2=\"516.8\" y1=\"100.0\" y2=\"100.0\" stroke=\"#adb0b8\" stroke-width=\"1\" />\n",
       "<line x1=\"48.8\" x2=\"516.8\" y1=\"160.0\" y2=\"160.0\" stroke=\"#adb0b8\" stroke-width=\"1\" />\n",
       "<line x1=\"48.8\" x2=\"516.8\" y1=\"220.0\" y2=\"220.0\" stroke=\"#adb0b8\" stroke-width=\"1\" />\n",
       "\n",
       "<rect x=\"72.8\" y=\"20.0\" width=\"40.0\" height=\"40\" rx=\"4\" ry=\"4\" stroke=\"#ffffff\" stroke-width=\"0\" fill=\"#5e7ce0\" fill-opacity=\"1\" />\n",
       "<text x=\"92.8\" y=\"40.0\" font-size=\"20px\" dominant-baseline=\"middle\" text-anchor=\"middle\" font-family=\"Arial\" font-weight=\"normal\" fill=\"#ffffff\" >\n",
       "X\n",
       " </text>\n",
       "\n",
       "\n",
       "<rect x=\"72.8\" y=\"80.0\" width=\"40.0\" height=\"40\" rx=\"4\" ry=\"4\" stroke=\"#ffffff\" stroke-width=\"0\" fill=\"#5e7ce0\" fill-opacity=\"1\" />\n",
       "<text x=\"92.8\" y=\"100.0\" font-size=\"20px\" dominant-baseline=\"middle\" text-anchor=\"middle\" font-family=\"Arial\" font-weight=\"normal\" fill=\"#ffffff\" >\n",
       "X\n",
       " </text>\n",
       "\n",
       "\n",
       "<rect x=\"132.8\" y=\"20.0\" width=\"80.0\" height=\"40\" rx=\"4\" ry=\"4\" stroke=\"#ffffff\" stroke-width=\"0\" fill=\"#fac209\" fill-opacity=\"1\" />\n",
       "<text x=\"172.8\" y=\"36.0\" font-size=\"20px\" dominant-baseline=\"middle\" text-anchor=\"middle\" font-family=\"Arial\" font-weight=\"normal\" fill=\"#ffffff\" >\n",
       "RY\n",
       " </text>\n",
       "<text x=\"172.8\" y=\"52.0\" font-size=\"14.0px\" dominant-baseline=\"middle\" text-anchor=\"middle\" font-family=\"Arial\" font-weight=\"normal\" fill=\"#ffffff\" >\n",
       "tht_0\n",
       " </text>\n",
       "\n",
       "\n",
       "<rect x=\"132.8\" y=\"80.0\" width=\"80.0\" height=\"40\" rx=\"4\" ry=\"4\" stroke=\"#ffffff\" stroke-width=\"0\" fill=\"#fac209\" fill-opacity=\"1\" />\n",
       "<text x=\"172.8\" y=\"96.0\" font-size=\"20px\" dominant-baseline=\"middle\" text-anchor=\"middle\" font-family=\"Arial\" font-weight=\"normal\" fill=\"#ffffff\" >\n",
       "RY\n",
       " </text>\n",
       "<text x=\"172.8\" y=\"112.0\" font-size=\"14.0px\" dominant-baseline=\"middle\" text-anchor=\"middle\" font-family=\"Arial\" font-weight=\"normal\" fill=\"#ffffff\" >\n",
       "tht_1\n",
       " </text>\n",
       "\n",
       "\n",
       "<rect x=\"72.8\" y=\"140.0\" width=\"80.0\" height=\"40\" rx=\"4\" ry=\"4\" stroke=\"#ffffff\" stroke-width=\"0\" fill=\"#fac209\" fill-opacity=\"1\" />\n",
       "<text x=\"112.8\" y=\"156.0\" font-size=\"20px\" dominant-baseline=\"middle\" text-anchor=\"middle\" font-family=\"Arial\" font-weight=\"normal\" fill=\"#ffffff\" >\n",
       "RY\n",
       " </text>\n",
       "<text x=\"112.8\" y=\"172.0\" font-size=\"14.0px\" dominant-baseline=\"middle\" text-anchor=\"middle\" font-family=\"Arial\" font-weight=\"normal\" fill=\"#ffffff\" >\n",
       "tht_2\n",
       " </text>\n",
       "\n",
       "\n",
       "<rect x=\"72.8\" y=\"200.0\" width=\"80.0\" height=\"40\" rx=\"4\" ry=\"4\" stroke=\"#ffffff\" stroke-width=\"0\" fill=\"#fac209\" fill-opacity=\"1\" />\n",
       "<text x=\"112.8\" y=\"216.0\" font-size=\"20px\" dominant-baseline=\"middle\" text-anchor=\"middle\" font-family=\"Arial\" font-weight=\"normal\" fill=\"#ffffff\" >\n",
       "RY\n",
       " </text>\n",
       "<text x=\"112.8\" y=\"232.0\" font-size=\"14.0px\" dominant-baseline=\"middle\" text-anchor=\"middle\" font-family=\"Arial\" font-weight=\"normal\" fill=\"#ffffff\" >\n",
       "tht_3\n",
       " </text>\n",
       "\n",
       "<circle cx=\"252.8\" cy=\"40.0\" r=\"4\" fill=\"#16acff\" />\n",
       "<line x1=\"252.8\" x2=\"252.8\" y1=\"40.0\" y2=\"100.0\" stroke=\"#16acff\" stroke-width=\"3\" />\n",
       "<rect x=\"232.8\" y=\"80.0\" width=\"40\" height=\"40\" rx=\"4\" ry=\"4\" stroke=\"#ffffff\" stroke-width=\"0\" fill=\"#16acff\" fill-opacity=\"1\" />\n",
       "<line x1=\"238.8\" x2=\"266.8\" y1=\"100.0\" y2=\"100.0\" stroke=\"#ffffff\" stroke-width=\"4\" />\n",
       "<line x1=\"252.8\" x2=\"252.8\" y1=\"86.0\" y2=\"114.0\" stroke=\"#ffffff\" stroke-width=\"4\" />\n",
       "<circle cx=\"312.8\" cy=\"100.0\" r=\"4\" fill=\"#16acff\" />\n",
       "<line x1=\"312.8\" x2=\"312.8\" y1=\"100.0\" y2=\"160.0\" stroke=\"#16acff\" stroke-width=\"3\" />\n",
       "<rect x=\"292.8\" y=\"140.0\" width=\"40\" height=\"40\" rx=\"4\" ry=\"4\" stroke=\"#ffffff\" stroke-width=\"0\" fill=\"#16acff\" fill-opacity=\"1\" />\n",
       "<line x1=\"298.8\" x2=\"326.8\" y1=\"160.0\" y2=\"160.0\" stroke=\"#ffffff\" stroke-width=\"4\" />\n",
       "<line x1=\"312.8\" x2=\"312.8\" y1=\"146.0\" y2=\"174.0\" stroke=\"#ffffff\" stroke-width=\"4\" />\n",
       "<circle cx=\"372.8\" cy=\"160.0\" r=\"4\" fill=\"#16acff\" />\n",
       "<line x1=\"372.8\" x2=\"372.8\" y1=\"160.0\" y2=\"220.0\" stroke=\"#16acff\" stroke-width=\"3\" />\n",
       "<rect x=\"352.8\" y=\"200.0\" width=\"40\" height=\"40\" rx=\"4\" ry=\"4\" stroke=\"#ffffff\" stroke-width=\"0\" fill=\"#16acff\" fill-opacity=\"1\" />\n",
       "<line x1=\"358.8\" x2=\"386.8\" y1=\"220.0\" y2=\"220.0\" stroke=\"#ffffff\" stroke-width=\"4\" />\n",
       "<line x1=\"372.8\" x2=\"372.8\" y1=\"206.0\" y2=\"234.0\" stroke=\"#ffffff\" stroke-width=\"4\" />\n",
       "\n",
       "<rect x=\"292.8\" y=\"20.0\" width=\"80.0\" height=\"40\" rx=\"4\" ry=\"4\" stroke=\"#ffffff\" stroke-width=\"0\" fill=\"#fac209\" fill-opacity=\"1\" />\n",
       "<text x=\"332.8\" y=\"36.0\" font-size=\"20px\" dominant-baseline=\"middle\" text-anchor=\"middle\" font-family=\"Arial\" font-weight=\"normal\" fill=\"#ffffff\" >\n",
       "RY\n",
       " </text>\n",
       "<text x=\"332.8\" y=\"52.0\" font-size=\"14.0px\" dominant-baseline=\"middle\" text-anchor=\"middle\" font-family=\"Arial\" font-weight=\"normal\" fill=\"#ffffff\" >\n",
       "tht_4\n",
       " </text>\n",
       "\n",
       "\n",
       "<rect x=\"352.8\" y=\"80.0\" width=\"80.0\" height=\"40\" rx=\"4\" ry=\"4\" stroke=\"#ffffff\" stroke-width=\"0\" fill=\"#fac209\" fill-opacity=\"1\" />\n",
       "<text x=\"392.8\" y=\"96.0\" font-size=\"20px\" dominant-baseline=\"middle\" text-anchor=\"middle\" font-family=\"Arial\" font-weight=\"normal\" fill=\"#ffffff\" >\n",
       "RY\n",
       " </text>\n",
       "<text x=\"392.8\" y=\"112.0\" font-size=\"14.0px\" dominant-baseline=\"middle\" text-anchor=\"middle\" font-family=\"Arial\" font-weight=\"normal\" fill=\"#ffffff\" >\n",
       "tht_5\n",
       " </text>\n",
       "\n",
       "\n",
       "<rect x=\"412.8\" y=\"140.0\" width=\"80.0\" height=\"40\" rx=\"4\" ry=\"4\" stroke=\"#ffffff\" stroke-width=\"0\" fill=\"#fac209\" fill-opacity=\"1\" />\n",
       "<text x=\"452.8\" y=\"156.0\" font-size=\"20px\" dominant-baseline=\"middle\" text-anchor=\"middle\" font-family=\"Arial\" font-weight=\"normal\" fill=\"#ffffff\" >\n",
       "RY\n",
       " </text>\n",
       "<text x=\"452.8\" y=\"172.0\" font-size=\"14.0px\" dominant-baseline=\"middle\" text-anchor=\"middle\" font-family=\"Arial\" font-weight=\"normal\" fill=\"#ffffff\" >\n",
       "tht_6\n",
       " </text>\n",
       "\n",
       "\n",
       "<rect x=\"412.8\" y=\"200.0\" width=\"80.0\" height=\"40\" rx=\"4\" ry=\"4\" stroke=\"#ffffff\" stroke-width=\"0\" fill=\"#fac209\" fill-opacity=\"1\" />\n",
       "<text x=\"452.8\" y=\"216.0\" font-size=\"20px\" dominant-baseline=\"middle\" text-anchor=\"middle\" font-family=\"Arial\" font-weight=\"normal\" fill=\"#ffffff\" >\n",
       "RY\n",
       " </text>\n",
       "<text x=\"452.8\" y=\"232.0\" font-size=\"14.0px\" dominant-baseline=\"middle\" text-anchor=\"middle\" font-family=\"Arial\" font-weight=\"normal\" fill=\"#ffffff\" >\n",
       "tht_7\n",
       " </text>\n",
       "\n",
       "</svg></div>"
      ],
      "text/plain": [
       "<mindquantum.io.display.circuit_svg_drawer.SVGCircuit at 0x7fb86f8e68d0>"
      ]
     },
     "execution_count": 43,
     "metadata": {},
     "output_type": "execute_result"
    }
   ],
   "source": [
    "nq = 4\n",
    "p = 0\n",
    "param = lambda p: f'tht_{p}'\n",
    "\n",
    "cir = Circuit()\n",
    "for i in range(nq // 2):\n",
    "    cir += X.on(i)\n",
    "for i in range(nq):\n",
    "    cir += RY(param(p)).on(i) ; p += 1\n",
    "for i in range(1, nq):\n",
    "    cir += CNOT.on(i, i - 1)\n",
    "for i in range(nq):\n",
    "    cir += RY(param(p)).on(i) ; p += 1\n",
    "\n",
    "cir.summary()\n",
    "print(cir)\n",
    "cir.svg()"
   ]
  },
  {
   "cell_type": "code",
   "execution_count": 67,
   "id": "e0188d9f-7140-441a-82ef-4cbe7169a8ea",
   "metadata": {},
   "outputs": [
    {
     "data": {
      "text/plain": [
       "mqvector simulator with 4 qubits (little endian).\n",
       "Current quantum state:\n",
       "[1.+0.j 0.+0.j 0.+0.j 0.+0.j 0.+0.j 0.+0.j 0.+0.j 0.+0.j 0.+0.j 0.+0.j\n",
       " 0.+0.j 0.+0.j 0.+0.j 0.+0.j 0.+0.j 0.+0.j]"
      ]
     },
     "execution_count": 67,
     "metadata": {},
     "output_type": "execute_result"
    }
   ],
   "source": [
    "sim = Simulator('mqvector', cir.n_qubits)\n",
    "grad_ops = sim.get_expectation_with_grad(ham, cir)\n",
    "\n",
    "sim"
   ]
  },
  {
   "cell_type": "code",
   "execution_count": 94,
   "id": "f14bc831-172d-41e2-b7ef-55bcdff6bcfa",
   "metadata": {},
   "outputs": [
    {
     "name": "stdout",
     "output_type": "stream",
     "text": [
      "MQAnsatzOnlyLayer<\n",
      "  (evolution): MQAnsatzOnlyOps<4 qubits mqvector VQA Operator>\n",
      "  >\n",
      "[Parameter (name=ansatz_weight, shape=(8,), dtype=Float32, requires_grad=True)]\n",
      "Step   0 energy -0.5816669464111328\n",
      "Step 100 energy -0.5816669464111328\n",
      "Step 200 energy -0.5816669464111328\n",
      "Step 300 energy -0.5816669464111328\n",
      "Step 400 energy -0.5816669464111328\n",
      "Step 500 energy -0.5816669464111328\n",
      "Step 600 energy -0.5816669464111328\n",
      "Step 700 energy -0.5816669464111328\n",
      "Step 800 energy -0.5816669464111328\n",
      "Step 900 energy -0.5816669464111328\n",
      "Optimization completed at step 998\n",
      "Optimized energy:  -0.5816669464111328\n",
      "Optimized amplitudes: \n",
      " [0. 0. 0. 0. 0. 0. 0. 0.]\n"
     ]
    }
   ],
   "source": [
    "from mindquantum.framework import MQAnsatzOnlyLayer\n",
    "ms.context.set_context(mode=ms.context.PYNATIVE_MODE, device_target=\"CPU\")\n",
    "\n",
    "net = MQAnsatzOnlyLayer(grad_ops, weight='Zeros')\n",
    "print(net)\n",
    "print(net.trainable_params())\n",
    "optimizer = ms.nn.Adam(net.trainable_params(), learning_rate=0.05)\n",
    "optimizer_step = ms.nn.TrainOneStepCell(net, optimizer)\n",
    "\n",
    "for iter in range (1000):\n",
    "    e_i = optimizer_step()\n",
    "    if iter % 100 == 0:\n",
    "        print(\"Step %3d energy %.16f\" % (iter, float(e_i)))\n",
    "\n",
    "print(\"Optimization completed at step %3d\" % (iter - 1))\n",
    "print(\"Optimized energy: %20.16f\" % e_i)\n",
    "print(\"Optimized amplitudes: \\n\", net.weight.asnumpy())"
   ]
  },
  {
   "cell_type": "code",
   "execution_count": 96,
   "id": "6dd1a31f-e37d-45e2-9581-71e12e615175",
   "metadata": {},
   "outputs": [
    {
     "name": "stdout",
     "output_type": "stream",
     "text": [
      "E0 energy: -1.1011503302323775\n",
      "params: [-3.52437151e-01  4.09113900e-07  1.01859074e-07 -5.92045284e-07\n",
      "  5.59020644e-07 -3.14159326e+00 -3.36775470e-07  6.45338619e-07]\n"
     ]
    }
   ],
   "source": [
    "from scipy.optimize import minimize\n",
    "\n",
    "theta = np.random.uniform(low=-1, high=1, size=[2*nq]) * 1e-3\n",
    "\n",
    "def loss_fn(x):\n",
    "    f, g = grad_ops(x)\n",
    "    f, g = [x.squeeze() for x in [f, g]]\n",
    "    return f.real, g.real\n",
    "\n",
    "res = minimize(loss_fn, theta, method='BFGS', jac=True, tol=1e-6)\n",
    "print('E0 energy:', res.fun)\n",
    "print('params:', res.x)"
   ]
  }
 ],
 "metadata": {
  "kernelspec": {
   "display_name": "MindSpore",
   "language": "python",
   "name": "mindspore"
  },
  "language_info": {
   "codemirror_mode": {
    "name": "ipython",
    "version": 3
   },
   "file_extension": ".py",
   "mimetype": "text/x-python",
   "name": "python",
   "nbconvert_exporter": "python",
   "pygments_lexer": "ipython3",
   "version": "3.7.10"
  }
 },
 "nbformat": 4,
 "nbformat_minor": 5
}
